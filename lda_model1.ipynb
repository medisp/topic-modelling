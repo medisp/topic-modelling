{
 "cells": [
  {
   "cell_type": "code",
   "execution_count": 5,
   "metadata": {
    "collapsed": false
   },
   "outputs": [],
   "source": [
    "import sklearn"
   ]
  },
  {
   "cell_type": "code",
   "execution_count": 7,
   "metadata": {
    "collapsed": false
   },
   "outputs": [],
   "source": [
    "import pandas as pd\n"
   ]
  },
  {
   "cell_type": "code",
   "execution_count": 10,
   "metadata": {
    "collapsed": false
   },
   "outputs": [
    {
     "name": "stderr",
     "output_type": "stream",
     "text": [
      "b'Skipping line 3: expected 1 fields, saw 2\\nSkipping line 4: expected 1 fields, saw 2\\nSkipping line 8: expected 1 fields, saw 2\\nSkipping line 17: expected 1 fields, saw 2\\nSkipping line 19: expected 1 fields, saw 2\\nSkipping line 23: expected 1 fields, saw 2\\nSkipping line 24: expected 1 fields, saw 3\\nSkipping line 33: expected 1 fields, saw 2\\nSkipping line 42: expected 1 fields, saw 2\\nSkipping line 43: expected 1 fields, saw 2\\nSkipping line 45: expected 1 fields, saw 6\\nSkipping line 47: expected 1 fields, saw 2\\nSkipping line 48: expected 1 fields, saw 2\\nSkipping line 51: expected 1 fields, saw 2\\nSkipping line 52: expected 1 fields, saw 2\\nSkipping line 53: expected 1 fields, saw 2\\nSkipping line 63: expected 1 fields, saw 2\\nSkipping line 64: expected 1 fields, saw 2\\nSkipping line 65: expected 1 fields, saw 2\\nSkipping line 66: expected 1 fields, saw 2\\nSkipping line 67: expected 1 fields, saw 5\\nSkipping line 69: expected 1 fields, saw 3\\nSkipping line 78: expected 1 fields, saw 2\\nSkipping line 79: expected 1 fields, saw 2\\nSkipping line 83: expected 1 fields, saw 2\\nSkipping line 84: expected 1 fields, saw 2\\nSkipping line 87: expected 1 fields, saw 2\\nSkipping line 89: expected 1 fields, saw 2\\nSkipping line 92: expected 1 fields, saw 2\\nSkipping line 94: expected 1 fields, saw 2\\nSkipping line 100: expected 1 fields, saw 2\\nSkipping line 101: expected 1 fields, saw 2\\nSkipping line 105: expected 1 fields, saw 2\\nSkipping line 106: expected 1 fields, saw 2\\nSkipping line 107: expected 1 fields, saw 2\\nSkipping line 110: expected 1 fields, saw 3\\nSkipping line 119: expected 1 fields, saw 3\\nSkipping line 121: expected 1 fields, saw 5\\nSkipping line 127: expected 1 fields, saw 5\\nSkipping line 128: expected 1 fields, saw 2\\nSkipping line 137: expected 1 fields, saw 2\\nSkipping line 143: expected 1 fields, saw 2\\nSkipping line 145: expected 1 fields, saw 2\\nSkipping line 148: expected 1 fields, saw 5\\nSkipping line 152: expected 1 fields, saw 2\\nSkipping line 154: expected 1 fields, saw 2\\nSkipping line 157: expected 1 fields, saw 2\\nSkipping line 161: expected 1 fields, saw 2\\nSkipping line 170: expected 1 fields, saw 2\\nSkipping line 175: expected 1 fields, saw 2\\nSkipping line 182: expected 1 fields, saw 2\\nSkipping line 186: expected 1 fields, saw 3\\nSkipping line 190: expected 1 fields, saw 2\\nSkipping line 193: expected 1 fields, saw 3\\nSkipping line 197: expected 1 fields, saw 2\\nSkipping line 202: expected 1 fields, saw 3\\nSkipping line 212: expected 1 fields, saw 2\\nSkipping line 228: expected 1 fields, saw 2\\nSkipping line 233: expected 1 fields, saw 3\\nSkipping line 238: expected 1 fields, saw 2\\nSkipping line 239: expected 1 fields, saw 2\\nSkipping line 243: expected 1 fields, saw 3\\nSkipping line 253: expected 1 fields, saw 2\\nSkipping line 263: expected 1 fields, saw 3\\nSkipping line 266: expected 1 fields, saw 2\\nSkipping line 271: expected 1 fields, saw 2\\nSkipping line 281: expected 1 fields, saw 2\\nSkipping line 292: expected 1 fields, saw 2\\nSkipping line 296: expected 1 fields, saw 6\\nSkipping line 301: expected 1 fields, saw 2\\nSkipping line 302: expected 1 fields, saw 3\\nSkipping line 303: expected 1 fields, saw 2\\nSkipping line 306: expected 1 fields, saw 2\\nSkipping line 317: expected 1 fields, saw 2\\nSkipping line 319: expected 1 fields, saw 3\\nSkipping line 320: expected 1 fields, saw 2\\nSkipping line 321: expected 1 fields, saw 5\\nSkipping line 328: expected 1 fields, saw 3\\nSkipping line 332: expected 1 fields, saw 2\\nSkipping line 335: expected 1 fields, saw 2\\nSkipping line 340: expected 1 fields, saw 2\\nSkipping line 342: expected 1 fields, saw 2\\nSkipping line 351: expected 1 fields, saw 2\\nSkipping line 367: expected 1 fields, saw 4\\nSkipping line 369: expected 1 fields, saw 2\\nSkipping line 374: expected 1 fields, saw 3\\nSkipping line 376: expected 1 fields, saw 2\\nSkipping line 381: expected 1 fields, saw 2\\nSkipping line 382: expected 1 fields, saw 2\\nSkipping line 402: expected 1 fields, saw 2\\nSkipping line 406: expected 1 fields, saw 2\\nSkipping line 407: expected 1 fields, saw 2\\nSkipping line 410: expected 1 fields, saw 4\\nSkipping line 413: expected 1 fields, saw 3\\nSkipping line 416: expected 1 fields, saw 2\\nSkipping line 421: expected 1 fields, saw 2\\nSkipping line 425: expected 1 fields, saw 2\\nSkipping line 426: expected 1 fields, saw 3\\nSkipping line 433: expected 1 fields, saw 2\\nSkipping line 437: expected 1 fields, saw 2\\nSkipping line 440: expected 1 fields, saw 2\\nSkipping line 443: expected 1 fields, saw 4\\nSkipping line 445: expected 1 fields, saw 2\\nSkipping line 450: expected 1 fields, saw 2\\nSkipping line 452: expected 1 fields, saw 2\\nSkipping line 453: expected 1 fields, saw 2\\nSkipping line 458: expected 1 fields, saw 2\\nSkipping line 459: expected 1 fields, saw 4\\nSkipping line 466: expected 1 fields, saw 5\\nSkipping line 477: expected 1 fields, saw 2\\nSkipping line 479: expected 1 fields, saw 2\\nSkipping line 482: expected 1 fields, saw 2\\nSkipping line 485: expected 1 fields, saw 3\\nSkipping line 486: expected 1 fields, saw 3\\nSkipping line 493: expected 1 fields, saw 2\\nSkipping line 496: expected 1 fields, saw 6\\nSkipping line 499: expected 1 fields, saw 2\\nSkipping line 500: expected 1 fields, saw 2\\nSkipping line 509: expected 1 fields, saw 2\\nSkipping line 516: expected 1 fields, saw 2\\nSkipping line 534: expected 1 fields, saw 2\\nSkipping line 535: expected 1 fields, saw 2\\nSkipping line 537: expected 1 fields, saw 3\\nSkipping line 539: expected 1 fields, saw 2\\nSkipping line 544: expected 1 fields, saw 2\\nSkipping line 548: expected 1 fields, saw 2\\nSkipping line 549: expected 1 fields, saw 2\\nSkipping line 550: expected 1 fields, saw 2\\nSkipping line 560: expected 1 fields, saw 2\\nSkipping line 565: expected 1 fields, saw 3\\nSkipping line 566: expected 1 fields, saw 3\\nSkipping line 573: expected 1 fields, saw 2\\nSkipping line 585: expected 1 fields, saw 2\\nSkipping line 586: expected 1 fields, saw 4\\nSkipping line 605: expected 1 fields, saw 2\\nSkipping line 607: expected 1 fields, saw 2\\nSkipping line 609: expected 1 fields, saw 2\\nSkipping line 614: expected 1 fields, saw 2\\nSkipping line 616: expected 1 fields, saw 2\\nSkipping line 625: expected 1 fields, saw 4\\nSkipping line 632: expected 1 fields, saw 3\\nSkipping line 646: expected 1 fields, saw 2\\nSkipping line 651: expected 1 fields, saw 2\\nSkipping line 655: expected 1 fields, saw 2\\nSkipping line 665: expected 1 fields, saw 3\\nSkipping line 666: expected 1 fields, saw 3\\nSkipping line 667: expected 1 fields, saw 2\\nSkipping line 668: expected 1 fields, saw 2\\nSkipping line 672: expected 1 fields, saw 2\\nSkipping line 681: expected 1 fields, saw 2\\nSkipping line 685: expected 1 fields, saw 4\\nSkipping line 687: expected 1 fields, saw 2\\nSkipping line 695: expected 1 fields, saw 3\\nSkipping line 698: expected 1 fields, saw 2\\nSkipping line 699: expected 1 fields, saw 4\\nSkipping line 706: expected 1 fields, saw 2\\nSkipping line 708: expected 1 fields, saw 2\\nSkipping line 711: expected 1 fields, saw 2\\nSkipping line 715: expected 1 fields, saw 3\\nSkipping line 723: expected 1 fields, saw 2\\nSkipping line 726: expected 1 fields, saw 2\\nSkipping line 727: expected 1 fields, saw 2\\nSkipping line 729: expected 1 fields, saw 2\\nSkipping line 730: expected 1 fields, saw 2\\nSkipping line 732: expected 1 fields, saw 2\\nSkipping line 733: expected 1 fields, saw 2\\nSkipping line 736: expected 1 fields, saw 2\\nSkipping line 739: expected 1 fields, saw 2\\nSkipping line 740: expected 1 fields, saw 2\\nSkipping line 748: expected 1 fields, saw 2\\nSkipping line 753: expected 1 fields, saw 3\\nSkipping line 756: expected 1 fields, saw 2\\nSkipping line 770: expected 1 fields, saw 2\\nSkipping line 773: expected 1 fields, saw 2\\nSkipping line 774: expected 1 fields, saw 2\\nSkipping line 778: expected 1 fields, saw 2\\nSkipping line 779: expected 1 fields, saw 2\\nSkipping line 789: expected 1 fields, saw 3\\nSkipping line 798: expected 1 fields, saw 2\\nSkipping line 799: expected 1 fields, saw 2\\nSkipping line 805: expected 1 fields, saw 2\\nSkipping line 808: expected 1 fields, saw 2\\nSkipping line 811: expected 1 fields, saw 2\\nSkipping line 821: expected 1 fields, saw 2\\nSkipping line 825: expected 1 fields, saw 2\\nSkipping line 830: expected 1 fields, saw 3\\nSkipping line 834: expected 1 fields, saw 2\\nSkipping line 836: expected 1 fields, saw 2\\nSkipping line 837: expected 1 fields, saw 3\\nSkipping line 840: expected 1 fields, saw 2\\nSkipping line 841: expected 1 fields, saw 4\\nSkipping line 848: expected 1 fields, saw 2\\nSkipping line 858: expected 1 fields, saw 4\\nSkipping line 859: expected 1 fields, saw 2\\nSkipping line 861: expected 1 fields, saw 2\\nSkipping line 867: expected 1 fields, saw 4\\nSkipping line 868: expected 1 fields, saw 2\\nSkipping line 872: expected 1 fields, saw 3\\nSkipping line 880: expected 1 fields, saw 2\\nSkipping line 883: expected 1 fields, saw 2\\nSkipping line 890: expected 1 fields, saw 2\\nSkipping line 891: expected 1 fields, saw 2\\nSkipping line 918: expected 1 fields, saw 2\\nSkipping line 922: expected 1 fields, saw 3\\nSkipping line 924: expected 1 fields, saw 3\\nSkipping line 926: expected 1 fields, saw 2\\nSkipping line 928: expected 1 fields, saw 2\\nSkipping line 929: expected 1 fields, saw 4\\nSkipping line 932: expected 1 fields, saw 3\\nSkipping line 939: expected 1 fields, saw 3\\nSkipping line 941: expected 1 fields, saw 2\\nSkipping line 944: expected 1 fields, saw 2\\nSkipping line 945: expected 1 fields, saw 2\\nSkipping line 951: expected 1 fields, saw 3\\nSkipping line 962: expected 1 fields, saw 2\\nSkipping line 965: expected 1 fields, saw 5\\nSkipping line 975: expected 1 fields, saw 3\\nSkipping line 978: expected 1 fields, saw 3\\nSkipping line 984: expected 1 fields, saw 2\\nSkipping line 996: expected 1 fields, saw 3\\nSkipping line 1005: expected 1 fields, saw 3\\nSkipping line 1007: expected 1 fields, saw 5\\nSkipping line 1021: expected 1 fields, saw 2\\nSkipping line 1028: expected 1 fields, saw 2\\nSkipping line 1033: expected 1 fields, saw 4\\nSkipping line 1034: expected 1 fields, saw 3\\nSkipping line 1043: expected 1 fields, saw 2\\nSkipping line 1045: expected 1 fields, saw 3\\nSkipping line 1057: expected 1 fields, saw 3\\nSkipping line 1061: expected 1 fields, saw 2\\nSkipping line 1067: expected 1 fields, saw 3\\nSkipping line 1068: expected 1 fields, saw 2\\nSkipping line 1079: expected 1 fields, saw 3\\nSkipping line 1083: expected 1 fields, saw 2\\nSkipping line 1084: expected 1 fields, saw 2\\nSkipping line 1087: expected 1 fields, saw 2\\nSkipping line 1088: expected 1 fields, saw 3\\nSkipping line 1089: expected 1 fields, saw 2\\nSkipping line 1091: expected 1 fields, saw 2\\nSkipping line 1096: expected 1 fields, saw 2\\nSkipping line 1097: expected 1 fields, saw 2\\nSkipping line 1101: expected 1 fields, saw 2\\nSkipping line 1109: expected 1 fields, saw 2\\nSkipping line 1122: expected 1 fields, saw 2\\nSkipping line 1123: expected 1 fields, saw 2\\nSkipping line 1125: expected 1 fields, saw 2\\nSkipping line 1126: expected 1 fields, saw 2\\nSkipping line 1127: expected 1 fields, saw 3\\nSkipping line 1136: expected 1 fields, saw 2\\nSkipping line 1138: expected 1 fields, saw 2\\nSkipping line 1140: expected 1 fields, saw 2\\nSkipping line 1145: expected 1 fields, saw 2\\nSkipping line 1150: expected 1 fields, saw 3\\nSkipping line 1156: expected 1 fields, saw 2\\nSkipping line 1159: expected 1 fields, saw 3\\nSkipping line 1174: expected 1 fields, saw 2\\nSkipping line 1179: expected 1 fields, saw 2\\nSkipping line 1180: expected 1 fields, saw 3\\nSkipping line 1187: expected 1 fields, saw 3\\nSkipping line 1189: expected 1 fields, saw 3\\nSkipping line 1197: expected 1 fields, saw 2\\nSkipping line 1200: expected 1 fields, saw 2\\nSkipping line 1204: expected 1 fields, saw 2\\nSkipping line 1207: expected 1 fields, saw 2\\nSkipping line 1213: expected 1 fields, saw 2\\nSkipping line 1216: expected 1 fields, saw 2\\nSkipping line 1217: expected 1 fields, saw 2\\nSkipping line 1219: expected 1 fields, saw 2\\nSkipping line 1223: expected 1 fields, saw 2\\nSkipping line 1231: expected 1 fields, saw 4\\nSkipping line 1232: expected 1 fields, saw 3\\nSkipping line 1235: expected 1 fields, saw 2\\nSkipping line 1247: expected 1 fields, saw 2\\nSkipping line 1253: expected 1 fields, saw 3\\nSkipping line 1260: expected 1 fields, saw 2\\nSkipping line 1263: expected 1 fields, saw 2\\nSkipping line 1264: expected 1 fields, saw 2\\nSkipping line 1270: expected 1 fields, saw 2\\nSkipping line 1277: expected 1 fields, saw 2\\nSkipping line 1279: expected 1 fields, saw 3\\nSkipping line 1281: expected 1 fields, saw 2\\nSkipping line 1285: expected 1 fields, saw 2\\nSkipping line 1287: expected 1 fields, saw 2\\nSkipping line 1288: expected 1 fields, saw 2\\nSkipping line 1295: expected 1 fields, saw 2\\nSkipping line 1299: expected 1 fields, saw 5\\nSkipping line 1304: expected 1 fields, saw 2\\nSkipping line 1310: expected 1 fields, saw 2\\nSkipping line 1312: expected 1 fields, saw 2\\nSkipping line 1319: expected 1 fields, saw 2\\nSkipping line 1326: expected 1 fields, saw 3\\nSkipping line 1330: expected 1 fields, saw 6\\nSkipping line 1332: expected 1 fields, saw 2\\nSkipping line 1338: expected 1 fields, saw 2\\nSkipping line 1340: expected 1 fields, saw 3\\nSkipping line 1342: expected 1 fields, saw 2\\nSkipping line 1355: expected 1 fields, saw 2\\nSkipping line 1364: expected 1 fields, saw 2\\nSkipping line 1365: expected 1 fields, saw 2\\nSkipping line 1367: expected 1 fields, saw 2\\nSkipping line 1368: expected 1 fields, saw 2\\nSkipping line 1369: expected 1 fields, saw 2\\nSkipping line 1371: expected 1 fields, saw 2\\nSkipping line 1377: expected 1 fields, saw 2\\nSkipping line 1378: expected 1 fields, saw 2\\nSkipping line 1388: expected 1 fields, saw 2\\nSkipping line 1394: expected 1 fields, saw 2\\nSkipping line 1401: expected 1 fields, saw 4\\nSkipping line 1403: expected 1 fields, saw 2\\nSkipping line 1406: expected 1 fields, saw 2\\nSkipping line 1407: expected 1 fields, saw 2\\nSkipping line 1412: expected 1 fields, saw 2\\nSkipping line 1413: expected 1 fields, saw 4\\nSkipping line 1416: expected 1 fields, saw 2\\nSkipping line 1417: expected 1 fields, saw 2\\nSkipping line 1420: expected 1 fields, saw 2\\nSkipping line 1427: expected 1 fields, saw 4\\nSkipping line 1429: expected 1 fields, saw 5\\nSkipping line 1431: expected 1 fields, saw 2\\nSkipping line 1438: expected 1 fields, saw 2\\nSkipping line 1452: expected 1 fields, saw 3\\nSkipping line 1453: expected 1 fields, saw 2\\nSkipping line 1459: expected 1 fields, saw 2\\nSkipping line 1462: expected 1 fields, saw 2\\nSkipping line 1463: expected 1 fields, saw 2\\nSkipping line 1471: expected 1 fields, saw 2\\nSkipping line 1477: expected 1 fields, saw 2\\nSkipping line 1486: expected 1 fields, saw 2\\nSkipping line 1491: expected 1 fields, saw 2\\nSkipping line 1494: expected 1 fields, saw 3\\nSkipping line 1506: expected 1 fields, saw 2\\nSkipping line 1520: expected 1 fields, saw 2\\nSkipping line 1522: expected 1 fields, saw 2\\nSkipping line 1529: expected 1 fields, saw 2\\nSkipping line 1530: expected 1 fields, saw 4\\nSkipping line 1533: expected 1 fields, saw 2\\nSkipping line 1543: expected 1 fields, saw 2\\nSkipping line 1544: expected 1 fields, saw 3\\nSkipping line 1545: expected 1 fields, saw 2\\nSkipping line 1558: expected 1 fields, saw 2\\nSkipping line 1571: expected 1 fields, saw 2\\nSkipping line 1572: expected 1 fields, saw 3\\nSkipping line 1575: expected 1 fields, saw 2\\nSkipping line 1580: expected 1 fields, saw 2\\nSkipping line 1583: expected 1 fields, saw 2\\nSkipping line 1586: expected 1 fields, saw 2\\nSkipping line 1591: expected 1 fields, saw 2\\nSkipping line 1592: expected 1 fields, saw 2\\nSkipping line 1599: expected 1 fields, saw 2\\nSkipping line 1600: expected 1 fields, saw 2\\nSkipping line 1602: expected 1 fields, saw 4\\nSkipping line 1605: expected 1 fields, saw 2\\nSkipping line 1607: expected 1 fields, saw 2\\nSkipping line 1618: expected 1 fields, saw 2\\nSkipping line 1621: expected 1 fields, saw 3\\nSkipping line 1625: expected 1 fields, saw 2\\nSkipping line 1630: expected 1 fields, saw 2\\nSkipping line 1632: expected 1 fields, saw 3\\nSkipping line 1636: expected 1 fields, saw 2\\nSkipping line 1637: expected 1 fields, saw 2\\nSkipping line 1639: expected 1 fields, saw 5\\nSkipping line 1640: expected 1 fields, saw 3\\nSkipping line 1650: expected 1 fields, saw 2\\nSkipping line 1656: expected 1 fields, saw 3\\nSkipping line 1658: expected 1 fields, saw 3\\nSkipping line 1660: expected 1 fields, saw 3\\nSkipping line 1668: expected 1 fields, saw 3\\nSkipping line 1669: expected 1 fields, saw 2\\nSkipping line 1676: expected 1 fields, saw 2\\nSkipping line 1677: expected 1 fields, saw 5\\nSkipping line 1684: expected 1 fields, saw 2\\nSkipping line 1691: expected 1 fields, saw 3\\nSkipping line 1693: expected 1 fields, saw 3\\nSkipping line 1696: expected 1 fields, saw 2\\nSkipping line 1698: expected 1 fields, saw 2\\nSkipping line 1700: expected 1 fields, saw 2\\nSkipping line 1708: expected 1 fields, saw 2\\nSkipping line 1709: expected 1 fields, saw 2\\nSkipping line 1711: expected 1 fields, saw 2\\nSkipping line 1715: expected 1 fields, saw 2\\nSkipping line 1717: expected 1 fields, saw 2\\nSkipping line 1725: expected 1 fields, saw 2\\nSkipping line 1730: expected 1 fields, saw 2\\nSkipping line 1737: expected 1 fields, saw 2\\nSkipping line 1739: expected 1 fields, saw 2\\nSkipping line 1745: expected 1 fields, saw 2\\nSkipping line 1754: expected 1 fields, saw 3\\nSkipping line 1762: expected 1 fields, saw 2\\nSkipping line 1764: expected 1 fields, saw 3\\nSkipping line 1765: expected 1 fields, saw 2\\nSkipping line 1770: expected 1 fields, saw 2\\nSkipping line 1777: expected 1 fields, saw 2\\nSkipping line 1778: expected 1 fields, saw 3\\nSkipping line 1784: expected 1 fields, saw 3\\nSkipping line 1789: expected 1 fields, saw 2\\nSkipping line 1790: expected 1 fields, saw 2\\nSkipping line 1792: expected 1 fields, saw 2\\nSkipping line 1796: expected 1 fields, saw 2\\nSkipping line 1798: expected 1 fields, saw 2\\nSkipping line 1800: expected 1 fields, saw 2\\nSkipping line 1810: expected 1 fields, saw 2\\nSkipping line 1813: expected 1 fields, saw 8\\nSkipping line 1817: expected 1 fields, saw 2\\nSkipping line 1821: expected 1 fields, saw 2\\nSkipping line 1823: expected 1 fields, saw 2\\nSkipping line 1825: expected 1 fields, saw 5\\nSkipping line 1828: expected 1 fields, saw 2\\nSkipping line 1829: expected 1 fields, saw 4\\nSkipping line 1830: expected 1 fields, saw 2\\nSkipping line 1832: expected 1 fields, saw 2\\nSkipping line 1833: expected 1 fields, saw 3\\nSkipping line 1834: expected 1 fields, saw 2\\nSkipping line 1838: expected 1 fields, saw 2\\nSkipping line 1852: expected 1 fields, saw 2\\nSkipping line 1854: expected 1 fields, saw 2\\nSkipping line 1855: expected 1 fields, saw 2\\nSkipping line 1856: expected 1 fields, saw 5\\nSkipping line 1862: expected 1 fields, saw 3\\nSkipping line 1863: expected 1 fields, saw 2\\nSkipping line 1869: expected 1 fields, saw 2\\nSkipping line 1871: expected 1 fields, saw 2\\nSkipping line 1879: expected 1 fields, saw 3\\nSkipping line 1886: expected 1 fields, saw 2\\nSkipping line 1889: expected 1 fields, saw 3\\nSkipping line 1893: expected 1 fields, saw 2\\nSkipping line 1906: expected 1 fields, saw 2\\nSkipping line 1908: expected 1 fields, saw 2\\nSkipping line 1910: expected 1 fields, saw 3\\nSkipping line 1912: expected 1 fields, saw 2\\nSkipping line 1916: expected 1 fields, saw 3\\nSkipping line 1918: expected 1 fields, saw 2\\nSkipping line 1921: expected 1 fields, saw 2\\nSkipping line 1925: expected 1 fields, saw 2\\nSkipping line 1927: expected 1 fields, saw 2\\nSkipping line 1929: expected 1 fields, saw 2\\nSkipping line 1930: expected 1 fields, saw 2\\nSkipping line 1931: expected 1 fields, saw 2\\nSkipping line 1944: expected 1 fields, saw 2\\nSkipping line 1946: expected 1 fields, saw 2\\nSkipping line 1947: expected 1 fields, saw 2\\nSkipping line 1950: expected 1 fields, saw 3\\nSkipping line 1953: expected 1 fields, saw 2\\nSkipping line 1955: expected 1 fields, saw 3\\nSkipping line 1964: expected 1 fields, saw 4\\nSkipping line 1968: expected 1 fields, saw 2\\nSkipping line 1969: expected 1 fields, saw 2\\nSkipping line 1976: expected 1 fields, saw 2\\nSkipping line 1977: expected 1 fields, saw 3\\nSkipping line 1979: expected 1 fields, saw 2\\nSkipping line 1981: expected 1 fields, saw 2\\nSkipping line 1988: expected 1 fields, saw 2\\nSkipping line 1989: expected 1 fields, saw 2\\nSkipping line 1993: expected 1 fields, saw 2\\n'\n"
     ]
    }
   ],
   "source": [
    "\n",
    "data = pd.read_csv('general-tweets.txt', error_bad_lines=False);\n"
   ]
  },
  {
   "cell_type": "code",
   "execution_count": 11,
   "metadata": {
    "collapsed": false
   },
   "outputs": [
    {
     "name": "stdout",
     "output_type": "stream",
     "text": [
      "     NOT\\tBumping dj sefs mixtape nowww this is my music new skooooool\n",
      "0     NOT\\t#ieroween THE STORY OF IEROWEEN! THE VIDE...               \n",
      "1     NOT\\t@Sc0rpi0n676 btw - is there a remote chan...               \n",
      "2     NOT\\tSo... was that my invite to whoop ur ass?...               \n",
      "3              NOT\\t@alexbelisle Just made my night! <3               \n",
      "4     NOT\\t@linyourface take pics of the babies...so...               \n",
      "5     NOT\\tWearing my AWESOME wig!!! =][= and might ...               \n",
      "6      NOT\\tTonight was good now time for my treat burr               \n",
      "7     NOT\\tRT @quantick: And the winner may well be:...               \n",
      "8     NOT\\tfinish carving a jack a lantern and it lo...               \n",
      "9     NOT\\tWell I can't spell it out for you. It's n...               \n",
      "10    NOT\\tI just took \"WHAT AGE WILL U DIE AT??????...               \n",
      "11    NOT\\t@tonks_lupin *laughs* How are You? What's...               \n",
      "12    NOT\\tDoes Bankruptcy make me ineligible for th...               \n",
      "13                       NOT\\t@MORITEOGGI Have fun bud?               \n",
      "14    POLIT\\tRT @ConserValidity: Why do ignorant Pro...               \n",
      "15           NOT\\t@brianhornback LOL How did you guess?               \n",
      "16    NOT\\thttp://bit.ly/2uy5In | Hetengel : i get e...               \n",
      "17    NOT\\tRT @yournutrition: \"Men and women belong ...               \n",
      "18    NOT\\tFinally realized that punching a time clo...               \n",
      "19    NOT\\tFriends guilted me into passing out candy...               \n",
      "20    NOT\\tBoo! Great Frankenstein Jack-O-Lantern cr...               \n",
      "21    NOT\\tTryin' to enjoy this beautiful Halloween ...               \n",
      "22    NOT\\tRT: @tplayfair Aaaah Mia...SMDH!>RT @ther...               \n",
      "23    NOT\\tTrying to make somebody love you is about...               \n",
      "24    NOT\\tmy day was pretty much fucked up... stayi...               \n",
      "25                        NOT\\teff you lol @HooDRiChSOD               \n",
      "26    NOT\\thttp://twitpic.com/ns5c3 - @ali_sweeney b...               \n",
      "27    NOT\\tMy ex told me I should be j holiday for H...               \n",
      "28    NOT\\thttp://twitpic.com/nr3uw - Mischka hallow...               \n",
      "29    NOT\\thttp://twitpic.com/ns5wv - Almost done fo...               \n",
      "...                                                 ...               \n",
      "1516  NOT\\t#losemynumber if I bag u n da club and u ...               \n",
      "1517  NOT\\tI don't know what i'd do without music!!!...               \n",
      "1518  NOT\\tJobs in Sweden - Associate professor of E...               \n",
      "1519  NOT\\tRT @muggystreetz: This dude a mutant maaa...               \n",
      "1520  NOT\\t@DavidArchie you are to clever and funeee...               \n",
      "1521  NOT\\tright now im in sociology of the family b...               \n",
      "1522  NOT\\t@stardestroyer If you want followers a da...               \n",
      "1523  NOT\\tStill watching it. my computer takes 50 y...               \n",
      "1524                NOT\\thttp://twitpic.com/o5c91 - FML               \n",
      "1525  NOT\\tPublished a new blog post: Lenovo ThinkCe...               \n",
      "1526  NOT\\t@OCRealtress LOL! Am I usually a downer? ...               \n",
      "1527  NOT\\t@MsTiaBaby im sorry love b honest i reall...               \n",
      "1528  NOT\\tR.I.P. MIKE BECK...my condolences to the ...               \n",
      "1529  NOT\\tAmen! If that's the case text me nigga! R...               \n",
      "1530  NOT\\tRT: @KnightAgency Bk Bdays @nalinisingh B...               \n",
      "1531  NOT\\tRT @Knice09 #loosemynumber if someone gav...               \n",
      "1532  NOT\\tObama Loves the new album from Every Aven...               \n",
      "1533  NOT\\tOoo we just took Practice makes Perfect t...               \n",
      "1534  NOT\\tÃ˜ÑÑ–gÑ–Ð¸Î±â„“ Â® â„¢ÑÑ”cusÑ” iÐ¼iÏ„Î±...               \n",
      "1535  NOT\\tI just took \"Are You In Love With Joe Jon...               \n",
      "1536         NOT\\t#losemynumber if u tryna find my moms               \n",
      "1537         NOT\\tI'm bout to pass out. I'm mad sleepy.               \n",
      "1538  NOT\\tRT @lele647: RT @Donnette: @papawu1 @ganj...               \n",
      "1539  NOT\\tEXCELENTE! MTO BOA! RT @fresard RT @slaid...               \n",
      "1540  NOT\\tWebcamming laugh for the day: I was takin...               \n",
      "1541  NOT\\t@themoderngal ditto for me. i am having r...               \n",
      "1542     NOT\\t@ceebrito wats goodie my dominican brotha               \n",
      "1543                         NOT\\tyea my fone iz a DUBB               \n",
      "1544  NOT\\t@camerongarcia oh yes! My mom wanted to b...               \n",
      "1545  POLIT\\tRT @RedState: Voter Fraud Video Watch -...               \n",
      "\n",
      "[1546 rows x 1 columns]\n"
     ]
    }
   ],
   "source": [
    "print(data)"
   ]
  }
 ],
 "metadata": {
  "kernelspec": {
   "display_name": "python3test",
   "language": "python",
   "name": "python3test"
  },
  "language_info": {
   "codemirror_mode": {
    "name": "ipython",
    "version": 3
   },
   "file_extension": ".py",
   "mimetype": "text/x-python",
   "name": "python",
   "nbconvert_exporter": "python",
   "pygments_lexer": "ipython3",
   "version": "3.7.2"
  }
 },
 "nbformat": 4,
 "nbformat_minor": 0
}
