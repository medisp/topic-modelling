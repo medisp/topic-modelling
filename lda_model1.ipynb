{
 "cells": [
  {
   "cell_type": "code",
   "execution_count": 5,
   "metadata": {
    "collapsed": false
   },
   "outputs": [],
   "source": [
    "import sklearn"
   ]
  },
  {
   "cell_type": "code",
   "execution_count": 7,
   "metadata": {
    "collapsed": false
   },
   "outputs": [],
   "source": [
    "import pandas as pd\n"
   ]
  },
  {
   "cell_type": "code",
   "execution_count": 57,
   "metadata": {
    "collapsed": false
   },
   "outputs": [
    {
     "name": "stderr",
     "output_type": "stream",
     "text": [
      "C:\\Users\\medisp\\Miniconda3\\envs\\python3test\\lib\\site-packages\\ipykernel_launcher.py:2: ParserWarning: Falling back to the 'python' engine because the 'c' engine does not support regex separators (separators > 1 char and different from '\\s+' are interpreted as regex); you can avoid this warning by specifying engine='python'.\n",
      "  \n"
     ]
    }
   ],
   "source": [
    "\n",
    "data = pd.read_csv('general-tweets.txt',sep=\"\\\\t\", error_bad_lines=False, encoding='utf-8');\n"
   ]
  },
  {
   "cell_type": "code",
   "execution_count": 60,
   "metadata": {
    "collapsed": false
   },
   "outputs": [
    {
     "data": {
      "text/plain": [
       "0       Bumping dj sefs mixtape nowww this is my music...\n",
       "1       #ieroween THE STORY OF IEROWEEN! THE VIDEO ->>...\n",
       "2       trick or treating at the mall today; ZOO! last...\n",
       "3       @Ussk81 PMSL!!! I try not to stare but I can't...\n",
       "4       @Sc0rpi0n676 btw - is there a remote chance i ...\n",
       "5       So... was that my invite to whoop ur ass? Soun...\n",
       "6                     @alexbelisle Just made my night! <3\n",
       "7       [DAILY MIRROR]: Mariah: â€˜Iâ€™ve got big hair...\n",
       "8       @linyourface take pics of the babies...soooo cute\n",
       "9       Wearing my AWESOME wig!!! =][= and might be go...\n",
       "10            Tonight was good now time for my treat burr\n",
       "11      RT @quantick: And the winner may well be: Davi...\n",
       "12      finish carving a jack a lantern and it looks cool\n",
       "13      Well I can't spell it out for you. It's never ...\n",
       "14      I just took \"WHAT AGE WILL U DIE AT???????????...\n",
       "15         @tonks_lupin *laughs* How are You? What's new?\n",
       "16      Giving up my favourite vices for the whole of ...\n",
       "17      Does Bankruptcy make me ineligible for the mil...\n",
       "18      RT @Musiccitygal: Going into #tcot is like goi...\n",
       "19                              @MORITEOGGI Have fun bud?\n",
       "20      RT @ConserValidity: Why do ignorant Progressiv...\n",
       "21                  @brianhornback LOL How did you guess?\n",
       "22      has iced the sugar cookie pumpkins and gangren...\n",
       "23      well twitfolks and twitfam, I'm heading out......\n",
       "24      http://bit.ly/2uy5In | Hetengel : i get excite...\n",
       "25      RT @yournutrition: \"Men and women belong to di...\n",
       "26      Finally realized that punching a time clock wi...\n",
       "27      Friends guilted me into passing out candy toni...\n",
       "28      Boo! Great Frankenstein Jack-O-Lantern created...\n",
       "29      Tryin' to enjoy this beautiful Halloween Night!!!\n",
       "                              ...                        \n",
       "1970    Still watching it. my computer takes 50 years ...\n",
       "1971                       http://twitpic.com/o5c91 - FML\n",
       "1972    Published a new blog post: Lenovo ThinkCentre ...\n",
       "1973    @OCRealtress LOL! Am I usually a downer? Sorry...\n",
       "1974    @MsTiaBaby im sorry love b honest i really don...\n",
       "1975    Menu trend: Authentic, intense flavors are key...\n",
       "1976    @zether Yes. Their pay is on the low side, abo...\n",
       "1977    R.I.P. MIKE BECK...my condolences to the whole...\n",
       "1978    You'll hold my shit for 5-7 days, but can't ho...\n",
       "1979    Amen! If that's the case text me nigga! RT @Se...\n",
       "1980    @onedozenbagels Yea, yea.. Basically the same ...\n",
       "1981    RT: @KnightAgency Bk Bdays @nalinisingh BRANDE...\n",
       "1982    RT @Knice09 #loosemynumber if someone gave u m...\n",
       "1983    Obama Loves the new album from Every Avenue\" #...\n",
       "1984    Ooo we just took Practice makes Perfect to ano...\n",
       "1985    Ã˜ÑÑ–gÑ–Ð¸Î±â„“ Â® â„¢ÑÑ”cusÑ” iÐ¼iÏ„Î±Ã§ÃµÑ...\n",
       "1986    I just took \"Are You In Love With Joe Jonas?\" ...\n",
       "1987    If it's so good being free, do you mind tellin...\n",
       "1988    Browsing the web to for that special outfit, s...\n",
       "1989                #losemynumber if u tryna find my moms\n",
       "1990                I'm bout to pass out. I'm mad sleepy.\n",
       "1991    RT @lele647: RT @Donnette: @papawu1 @ganjaboy7...\n",
       "1992    chic, bem!!!!! pra mim Ã© o melhor restaurante...\n",
       "1993    EXCELENTE! MTO BOA! RT @fresard RT @slaidel: T...\n",
       "1994    Webcamming laugh for the day: I was taking off...\n",
       "1995    @themoderngal ditto for me. i am having remors...\n",
       "1996            @ceebrito wats goodie my dominican brotha\n",
       "1997                                yea my fone iz a DUBB\n",
       "1998    @camerongarcia oh yes! My mom wanted to buy my...\n",
       "1999    RT @RedState: Voter Fraud Video Watch - NJ. ht...\n",
       "Name: text, Length: 2000, dtype: object"
      ]
     },
     "execution_count": 60,
     "metadata": {},
     "output_type": "execute_result"
    }
   ],
   "source": [
    "data"
   ]
  }
 ],
 "metadata": {
  "kernelspec": {
   "display_name": "python3test",
   "language": "python",
   "name": "python3test"
  },
  "language_info": {
   "codemirror_mode": {
    "name": "ipython",
    "version": 3
   },
   "file_extension": ".py",
   "mimetype": "text/x-python",
   "name": "python",
   "nbconvert_exporter": "python",
   "pygments_lexer": "ipython3",
   "version": "3.7.2"
  }
 },
 "nbformat": 4,
 "nbformat_minor": 0
}
